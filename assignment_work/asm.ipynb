{
 "cells": [
  {
   "metadata": {},
   "cell_type": "markdown",
   "source": "# Import libraries",
   "id": "7531c80e61d2b601"
  },
  {
   "cell_type": "code",
   "id": "initial_id",
   "metadata": {
    "collapsed": true,
    "ExecuteTime": {
     "end_time": "2024-09-21T10:58:44.429416Z",
     "start_time": "2024-09-21T10:58:44.425767Z"
    }
   },
   "source": [
    "import numpy as np\n",
    "import pandas as pd\n",
    "import os"
   ],
   "outputs": [],
   "execution_count": 9
  },
  {
   "metadata": {
    "ExecuteTime": {
     "end_time": "2024-09-21T10:58:44.452471Z",
     "start_time": "2024-09-21T10:58:44.436293Z"
    }
   },
   "cell_type": "code",
   "source": [
    "# Load the CSV file\n",
    "df = pd.read_csv('/Users/phongporter/Documents/GITHUB/cos30049-team/soga_datasets/air_quality_household_air_pollution_from_solid_fuels.csv')"
   ],
   "id": "99975f8c29d53c4c",
   "outputs": [],
   "execution_count": 10
  },
  {
   "metadata": {
    "ExecuteTime": {
     "end_time": "2024-09-21T10:58:44.459345Z",
     "start_time": "2024-09-21T10:58:44.455244Z"
    }
   },
   "cell_type": "code",
   "source": [
    "# Clean the column names by removing unwanted characters\n",
    "df.columns = df.columns.str.replace(r'=\"', '', regex=True).str.strip()"
   ],
   "id": "9d758ae114f51101",
   "outputs": [],
   "execution_count": 11
  },
  {
   "metadata": {
    "ExecuteTime": {
     "end_time": "2024-09-21T10:58:44.499285Z",
     "start_time": "2024-09-21T10:58:44.461461Z"
    }
   },
   "cell_type": "code",
   "source": [
    "# Remove unwanted characters from all cell values in the DataFrame\n",
    "df = df.replace(r'=\"|\"$', '', regex=True)"
   ],
   "id": "444e080b24d8ade2",
   "outputs": [],
   "execution_count": 12
  },
  {
   "metadata": {
    "ExecuteTime": {
     "end_time": "2024-09-21T10:59:09.746575Z",
     "start_time": "2024-09-21T10:59:09.740918Z"
    }
   },
   "cell_type": "code",
   "source": "print(os.getcwd())",
   "id": "81663893d7c483a5",
   "outputs": [
    {
     "name": "stdout",
     "output_type": "stream",
     "text": [
      "/Users/phongporter/Documents/GITHUB/cos30049-team/assignment_work\n"
     ]
    }
   ],
   "execution_count": 15
  },
  {
   "metadata": {
    "ExecuteTime": {
     "end_time": "2024-09-21T10:59:37.350764Z",
     "start_time": "2024-09-21T10:59:37.300934Z"
    }
   },
   "cell_type": "code",
   "source": [
    "# Save the cleaned DataFrame to a new CSV file\n",
    "df.to_csv('/Users/phongporter/Documents/GITHUB/cos30049-team/soga_datasets/cleaned_air_quality_household_air_pollution_from_solid_fuels.csv', index=False)\n",
    "\n",
    "# Display the cleaned DataFrame\n",
    "print(df.head())"
   ],
   "id": "a4d1db054a7ded51",
   "outputs": [
    {
     "name": "stdout",
     "output_type": "stream",
     "text": [
      "   Exposure Id\"    Type\"     Country\" ISO3\"  Region\"        Name\"  \\\n",
      "0        123815  country  Afghanistan   AFG  country  Afghanistan   \n",
      "1        123816  country  Afghanistan   AFG  country  Afghanistan   \n",
      "2        123817  country  Afghanistan   AFG  country  Afghanistan   \n",
      "3        123818  country  Afghanistan   AFG  country  Afghanistan   \n",
      "4        123819  country  Afghanistan   AFG  country  Afghanistan   \n",
      "\n",
      "  Exposure Lower\" Exposure Mean\" Exposure Upper\" Year\" Pollutant\"  \\\n",
      "0            0.80           0.86            0.90  1990        hap   \n",
      "1            0.80           0.86            0.90  1991        hap   \n",
      "2            0.80           0.86            0.90  1992        hap   \n",
      "3            0.80           0.86            0.90  1993        hap   \n",
      "4            0.80           0.86            0.90  1994        hap   \n",
      "\n",
      "  Pollutant Name\" Region Name\"                    Units\"  \n",
      "0             HAP      Country  proportion of population  \n",
      "1             HAP      Country  proportion of population  \n",
      "2             HAP      Country  proportion of population  \n",
      "3             HAP      Country  proportion of population  \n",
      "4             HAP      Country  proportion of population  \n"
     ]
    }
   ],
   "execution_count": 16
  },
  {
   "metadata": {},
   "cell_type": "code",
   "outputs": [],
   "execution_count": null,
   "source": "",
   "id": "91dd45e903d56c71"
  }
 ],
 "metadata": {
  "kernelspec": {
   "display_name": "Python 3",
   "language": "python",
   "name": "python3"
  },
  "language_info": {
   "codemirror_mode": {
    "name": "ipython",
    "version": 2
   },
   "file_extension": ".py",
   "mimetype": "text/x-python",
   "name": "python",
   "nbconvert_exporter": "python",
   "pygments_lexer": "ipython2",
   "version": "2.7.6"
  }
 },
 "nbformat": 4,
 "nbformat_minor": 5
}
